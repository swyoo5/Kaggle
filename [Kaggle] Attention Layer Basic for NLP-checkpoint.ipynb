{
 "cells": [
  {
   "cell_type": "markdown",
   "id": "50afc7ca",
   "metadata": {},
   "source": [
    "Brazilian E-Commerce Public Dataset by Olist 필사\n",
    "https://www.kaggle.com/code/ashishpatel26/attension-layer-basic-for-nlp"
   ]
  },
  {
   "cell_type": "markdown",
   "id": "9704119d",
   "metadata": {},
   "source": [
    "# Attention Scoring\n",
    "우리가 scoring function에 전달할 입력을 살펴보자. 우리는 디코딩 단계의 첫번째 스템에 있다고 가정한다. scoring function의 첫번째 입력은 디코더의 은닉층이다(세개의 은닉층을 가진 toy RNN을 가정한다. 실제로 사용하지는 못하지먼 설명하기 쉽다.).\n",
    "\n",
    "1. scoring\n",
    "2. softmax"
   ]
  },
  {
   "cell_type": "code",
   "execution_count": 2,
   "id": "1299aa03",
   "metadata": {},
   "outputs": [],
   "source": [
    "dec_hidden_state = [5, 1, 20]"
   ]
  },
  {
   "cell_type": "code",
   "execution_count": 3,
   "id": "75baae79",
   "metadata": {},
   "outputs": [
    {
     "name": "stderr",
     "output_type": "stream",
     "text": [
      "C:\\Users\\User\\anaconda3\\lib\\site-packages\\numpy\\_distributor_init.py:32: UserWarning: loaded more than 1 DLL from .libs:\n",
      "C:\\Users\\User\\anaconda3\\lib\\site-packages\\numpy\\.libs\\libopenblas.XWYDX2IKJW2NMTWSFYNGFUWKQU3LYTCZ.gfortran-win_amd64.dll\n",
      "C:\\Users\\User\\anaconda3\\lib\\site-packages\\numpy\\.libs\\libopenblas64__v0.3.21-gcc_10_3_0.dll\n",
      "  stacklevel=1)\n"
     ]
    },
    {
     "data": {
      "text/plain": [
       "<AxesSubplot:>"
      ]
     },
     "execution_count": 3,
     "metadata": {},
     "output_type": "execute_result"
    },
    {
     "data": {
      "image/png": "[encoded data removed]",
      "text/plain": [
       "<Figure size 108x324 with 2 Axes>"
      ]
     },
     "metadata": {
      "needs_background": "light"
     },
     "output_type": "display_data"
    }
   ],
   "source": [
    "# 셀에서 바로 그림이 출력되도록 하는 명령어\n",
    "%matplotlib inline\n",
    "import numpy as np\n",
    "import seaborn as sns\n",
    "import matplotlib.pyplot as plt\n",
    "\n",
    "plt.figure(figsize = (1.5, 4.5)) # 그래프 크기\n",
    "# annot = True : 각 셀 안에 숫자(5, 1, 20)을 표시하는 옵션\n",
    "# cmap : 그래프의 색깔을 정하는 옵션\n",
    "# linewidths : 각 셀 사이의 선의 너비를 지정\n",
    "sns.heatmap(np.transpose(np.matrix(dec_hidden_state)), annot = True, cmap = sns.light_palette(\"purple\", as_cmap = True), linewidths = 1)"
   ]
  },
  {
   "cell_type": "code",
   "execution_count": 4,
   "id": "12cce414",
   "metadata": {},
   "outputs": [],
   "source": [
    "annotation = [3, 12, 45] # 인코더 은닉층"
   ]
  },
  {
   "cell_type": "code",
   "execution_count": 5,
   "id": "cb127087",
   "metadata": {},
   "outputs": [
    {
     "data": {
      "text/plain": [
       "<AxesSubplot:>"
      ]
     },
     "execution_count": 5,
     "metadata": {},
     "output_type": "execute_result"
    },
    {
     "data": {
      "image/png": "[encoded data removed]",
      "text/plain": [
       "<Figure size 108x324 with 2 Axes>"
      ]
     },
     "metadata": {
      "needs_background": "light"
     },
     "output_type": "display_data"
    }
   ],
   "source": [
    "plt.figure(figsize = (1.5, 4.5))\n",
    "sns.heatmap(np.transpose(np.matrix(annotation)), annot = True, cmap = sns.light_palette(\"orange\", as_cmap = True), linewidths = 1)"
   ]
  },
  {
   "cell_type": "code",
   "execution_count": 6,
   "id": "00bab437",
   "metadata": {},
   "outputs": [
    {
     "data": {
      "text/plain": [
       "927"
      ]
     },
     "execution_count": 6,
     "metadata": {},
     "output_type": "execute_result"
    }
   ],
   "source": [
    "def single_dot_attention_score(dec_hidden_state, enc_hidden_state) :\n",
    "    return np.dot(dec_hidden_state, enc_hidden_state)\n",
    "\n",
    "single_dot_attention_score(dec_hidden_state, annotation)"
   ]
  },
  {
   "cell_type": "markdown",
   "id": "f119ba2e",
   "metadata": {},
   "source": [
    "# Annotations Matrix"
   ]
  },
  {
   "cell_type": "code",
   "execution_count": 7,
   "id": "eb4b78be",
   "metadata": {},
   "outputs": [],
   "source": [
    "annotations = np.transpose([[3, 12, 45], [59, 2, 5], [1, 43, 5], [4, 3, 45.3]])"
   ]
  },
  {
   "cell_type": "code",
   "execution_count": 8,
   "id": "8c5d6370",
   "metadata": {},
   "outputs": [
    {
     "data": {
      "image/png": "[encoded data removed]",
      "text/plain": [
       "<Figure size 432x288 with 2 Axes>"
      ]
     },
     "metadata": {
      "needs_background": "light"
     },
     "output_type": "display_data"
    }
   ],
   "source": [
    "ax = sns.heatmap(annotations, annot = True, cmap = sns.light_palette(\"orange\", as_cmap = True), linewidths = 1)"
   ]
  },
  {
   "cell_type": "code",
   "execution_count": 9,
   "id": "f9dce933",
   "metadata": {},
   "outputs": [
    {
     "data": {
      "text/plain": [
       "array([927., 397., 148., 929.])"
      ]
     },
     "execution_count": 9,
     "metadata": {},
     "output_type": "execute_result"
    }
   ],
   "source": [
    "def dot_attention_score(dec_hidden_state, annotations) :\n",
    "    return np.matmul(np.transpose(dec_hidden_state), annotations)\n",
    "\n",
    "attention_weights_raw = dot_attention_score(dec_hidden_state, annotations)\n",
    "attention_weights_raw"
   ]
  },
  {
   "cell_type": "code",
   "execution_count": 18,
   "id": "688c5957",
   "metadata": {
    "scrolled": true
   },
   "outputs": [
    {
     "name": "stderr",
     "output_type": "stream",
     "text": [
      "C:\\Users\\User\\anaconda3\\lib\\site-packages\\ipykernel_launcher.py:3: RuntimeWarning: overflow encountered in exp\n",
      "  This is separate from the ipykernel package so we can avoid doing imports until\n",
      "C:\\Users\\User\\anaconda3\\lib\\site-packages\\ipykernel_launcher.py:4: RuntimeWarning: invalid value encountered in true_divide\n",
      "  after removing the cwd from sys.path.\n"
     ]
    },
    {
     "data": {
      "text/plain": [
       "array([nan,  0.,  0., nan])"
      ]
     },
     "execution_count": 18,
     "metadata": {},
     "output_type": "execute_result"
    }
   ],
   "source": [
    "def softmax(x) :\n",
    "    x = np.array(x, dtype = np.longdouble)\n",
    "    e_x = np.exp(x)\n",
    "    return e_x / e_x.sum(axis = 0)\n",
    "\n",
    "attention_weights = softmax(attention_weights_raw)\n",
    "attention_weights\n",
    "# 원래는 약 0.12, 0, 0, 0.88이 나와야 하는데.. np.float128이 적용이 안된다."
   ]
  },
  {
   "cell_type": "code",
   "execution_count": 19,
   "id": "8686133f",
   "metadata": {},
   "outputs": [
    {
     "data": {
      "text/plain": [
       "array([[nan,  0.,  0., nan],\n",
       "       [nan,  0.,  0., nan],\n",
       "       [nan,  0.,  0., nan]])"
      ]
     },
     "execution_count": 19,
     "metadata": {},
     "output_type": "execute_result"
    }
   ],
   "source": [
    "# 인코더 어텐션 가중치와 은닉상태 가중합\n",
    "def apply_attention_scores(attention_weights, annotations) :\n",
    "    return attention_weights * annotations\n",
    "\n",
    "applied_attention = apply_attention_scores(attention_weights, annotations)\n",
    "applied_attention"
   ]
  },
  {
   "cell_type": "code",
   "execution_count": 21,
   "id": "7e165e62",
   "metadata": {},
   "outputs": [
    {
     "data": {
      "image/png": "[encoded data removed]",
      "text/plain": [
       "<Figure size 432x288 with 2 Axes>"
      ]
     },
     "metadata": {
      "needs_background": "light"
     },
     "output_type": "display_data"
    }
   ],
   "source": [
    "ax = sns.heatmap(applied_attention, annot = True, cmap = sns.light_palette(\"orange\", as_cmap = True), linewidths = 1)"
   ]
  },
  {
   "cell_type": "markdown",
   "id": "4f9a2a7a",
   "metadata": {},
   "source": [
    "처음에 시각화한 annotation과 비교하면 두번째, 세번째 열이 없어졌다. 첫번째 열은 값이 유지됐고 네번째 열이 가장 두드러진다."
   ]
  },
  {
   "cell_type": "markdown",
   "id": "d010f429",
   "metadata": {},
   "source": [
    "# Attention Context벡터 계산\n",
    "attention context vector를 만들기 위해 남은 것은 네개의 열을 더해서 single attention context vector를 만드는 것이다."
   ]
  },
  {
   "cell_type": "code",
   "execution_count": 25,
   "id": "fa55fe56",
   "metadata": {},
   "outputs": [
    {
     "data": {
      "text/plain": [
       "array([nan, nan, nan])"
      ]
     },
     "execution_count": 25,
     "metadata": {},
     "output_type": "execute_result"
    }
   ],
   "source": [
    "def calculate_attention_vector(applied_attention) :\n",
    "    return np.sum(applied_attention, axis = 1)\n",
    "\n",
    "attention_vector = calculate_attention_vector(applied_attention)\n",
    "attention_vector"
   ]
  },
  {
   "cell_type": "code",
   "execution_count": 24,
   "id": "caea7dc9",
   "metadata": {},
   "outputs": [
    {
     "name": "stdout",
     "output_type": "stream",
     "text": [
      "[4 6]\n",
      "[3 7]\n"
     ]
    }
   ],
   "source": [
    "a = np.array([[1, 2],\n",
    "              [3, 4]])\n",
    "b = np.sum(a, axis = 0) \n",
    "c = np.sum(a, axis = 1)\n",
    "print(b)\n",
    "print(c)"
   ]
  },
  {
   "cell_type": "code",
   "execution_count": 26,
   "id": "3a758816",
   "metadata": {},
   "outputs": [
    {
     "name": "stderr",
     "output_type": "stream",
     "text": [
      "C:\\Users\\User\\anaconda3\\lib\\site-packages\\seaborn\\matrix.py:194: RuntimeWarning: All-NaN slice encountered\n",
      "  vmin = np.nanmin(calc_data)\n",
      "C:\\Users\\User\\anaconda3\\lib\\site-packages\\seaborn\\matrix.py:199: RuntimeWarning: All-NaN slice encountered\n",
      "  vmax = np.nanmax(calc_data)\n"
     ]
    },
    {
     "data": {
      "text/plain": [
       "<AxesSubplot:>"
      ]
     },
     "execution_count": 26,
     "metadata": {},
     "output_type": "execute_result"
    },
    {
     "data": {
      "image/png": "[encoded data removed]",
      "text/plain": [
       "<Figure size 108x324 with 2 Axes>"
      ]
     },
     "metadata": {
      "needs_background": "light"
     },
     "output_type": "display_data"
    }
   ],
   "source": [
    "# attention context vector 시각화\n",
    "plt.figure(figsize = (1.5, 4.5))\n",
    "sns.heatmap(np.transpose(np.matrix(attention_vector)), annot = True, cmap = sns.light_palette(\"Blue\", as_cmap = True), linewidths = 1)"
   ]
  },
  {
   "cell_type": "markdown",
   "id": "610ee19a",
   "metadata": {},
   "source": [
    "END"
   ]
  }
 ],
 "metadata": {
  "kernelspec": {
   "display_name": "Python 3",
   "language": "python",
   "name": "python3"
  },
  "language_info": {
   "codemirror_mode": {
    "name": "ipython",
    "version": 3
   },
   "file_extension": ".py",
   "mimetype": "text/x-python",
   "name": "python",
   "nbconvert_exporter": "python",
   "pygments_lexer": "ipython3",
   "version": "3.7.10"
  }
 },
 "nbformat": 4,
 "nbformat_minor": 5
}
